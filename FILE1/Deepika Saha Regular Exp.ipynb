{
 "cells": [
  {
   "cell_type": "code",
   "execution_count": 2,
   "id": "9b8c52d6",
   "metadata": {},
   "outputs": [],
   "source": [
    "#1"
   ]
  },
  {
   "cell_type": "code",
   "execution_count": 16,
   "id": "32c4500f",
   "metadata": {},
   "outputs": [],
   "source": [
    "import re"
   ]
  },
  {
   "cell_type": "code",
   "execution_count": 17,
   "id": "556cf044",
   "metadata": {},
   "outputs": [
    {
     "name": "stdout",
     "output_type": "stream",
     "text": [
      "Python:Exercises::PHP:Exercises:\n"
     ]
    }
   ],
   "source": [
    "text = \"Python Exercises, PHP Exercises.\"\n",
    "print(re.sub(\"[ ,.]\",\":\",text))"
   ]
  },
  {
   "cell_type": "code",
   "execution_count": 18,
   "id": "6dabddbc",
   "metadata": {},
   "outputs": [],
   "source": [
    "#2"
   ]
  },
  {
   "cell_type": "code",
   "execution_count": 19,
   "id": "70ec23f7",
   "metadata": {},
   "outputs": [
    {
     "name": "stdout",
     "output_type": "stream",
     "text": [
      "hello  world \n",
      "      test\n",
      "   four five  six   \n"
     ]
    }
   ],
   "source": [
    "# Except for words remove everything.\n",
    "dicte = {\"SUMMARY\":['hello, world!','XXXXX test','123four,five:,six...']}\n",
    "pattern = \"[,!1-9X.:]\"\n",
    "for i in dicte[\"SUMMARY\"]:\n",
    "    print(re.sub(pattern,\" \",i))"
   ]
  },
  {
   "cell_type": "code",
   "execution_count": 20,
   "id": "d6dce603",
   "metadata": {},
   "outputs": [],
   "source": [
    "#3"
   ]
  },
  {
   "cell_type": "code",
   "execution_count": 21,
   "id": "d3893996",
   "metadata": {},
   "outputs": [
    {
     "data": {
      "text/plain": [
       "['FOur', 'charcaters', 'LONG', 'fine']"
      ]
     },
     "execution_count": 21,
     "metadata": {},
     "output_type": "execute_result"
    }
   ],
   "source": [
    "text = \"Hey Hi I am FOur charcaters LONG and fine\"\n",
    "pat = re.compile(r\"\\b\\w{4,}\\b\")\n",
    "pat.findall(text)"
   ]
  },
  {
   "cell_type": "code",
   "execution_count": 22,
   "id": "c8bd1e20",
   "metadata": {},
   "outputs": [],
   "source": [
    "#4"
   ]
  },
  {
   "cell_type": "code",
   "execution_count": 10,
   "id": "219b8f71",
   "metadata": {},
   "outputs": [
    {
     "data": {
      "text/plain": [
       "['Hey', 'FOur', 'chars', 'LONG', 'and', 'fine']"
      ]
     },
     "execution_count": 10,
     "metadata": {},
     "output_type": "execute_result"
    }
   ],
   "source": [
    "text = \"Hey Hi I am FOur chars LONG and fine rtrewr\" \n",
    "pat = re.compile(r\"\\b\\w{3,5}\\b\")\n",
    "pat.findall(text)"
   ]
  },
  {
   "cell_type": "code",
   "execution_count": 11,
   "id": "bc60dac0",
   "metadata": {},
   "outputs": [],
   "source": [
    "#5"
   ]
  },
  {
   "cell_type": "code",
   "execution_count": 12,
   "id": "9327c7d0",
   "metadata": {},
   "outputs": [
    {
     "name": "stdout",
     "output_type": "stream",
     "text": [
      "example.com\n",
      "hr@flipdrobo.com\n",
      "github.com\n",
      "Hello Data Science World\n",
      "Data Scientist\n"
     ]
    }
   ],
   "source": [
    "text = [\"example(.com)\",\"hr@flipdrobo(.com)\",\"github(.com)\",\"Hello (Data Science World)\",\"Data (Scientist)\"] \n",
    "pat = re.compile(r\"[(){}]\")\n",
    "for i in text:\n",
    "    print(pat.sub(\"\",i))"
   ]
  },
  {
   "cell_type": "code",
   "execution_count": 26,
   "id": "f605edfc",
   "metadata": {},
   "outputs": [
    {
     "ename": "SyntaxError",
     "evalue": "invalid syntax (2567183489.py, line 5)",
     "output_type": "error",
     "traceback": [
      "\u001b[0;36m  Cell \u001b[0;32mIn[26], line 5\u001b[0;36m\u001b[0m\n\u001b[0;31m    def remove_parentheses([\"example(.com)\",\"hr@flipdrobo(.com)\",\"github(.com)\",\"Hello (Data Science World)\",\"Data (Scientist)\"]):\u001b[0m\n\u001b[0m                           ^\u001b[0m\n\u001b[0;31mSyntaxError\u001b[0m\u001b[0;31m:\u001b[0m invalid syntax\n"
     ]
    }
   ],
   "source": [
    "#6\n",
    "import re\n",
    "\n",
    "# Function to remove text within parentheses using regular expression\n",
    "def remove_parentheses([\"example(.com)\",\"hr@flipdrobo(.com)\",\"github(.com)\",\"Hello (Data Science World)\",\"Data (Scientist)\"]):\n",
    "    pat = re.compile(\"[().$]\")\n",
    "    return re.sub(r'\\([^)]*\\)', '', text)\n",
    "\n",
    "# Read the text from the text file\n",
    "with open('sample_text.txt', 'r') as file:\n",
    "    text = file.read()\n",
    "\n",
    "# Remove text within parentheses using the function\n",
    "cleaned_text = remove_parentheses(text)\n",
    "\n",
    "# Print the cleaned text\n",
    "print(cleaned_text)\n",
    "\n"
   ]
  },
  {
   "cell_type": "code",
   "execution_count": 1,
   "id": "2715e021",
   "metadata": {},
   "outputs": [],
   "source": [
    "#7"
   ]
  },
  {
   "cell_type": "code",
   "execution_count": 27,
   "id": "8ae780b7",
   "metadata": {},
   "outputs": [
    {
     "name": "stdout",
     "output_type": "stream",
     "text": [
      "OREP\n"
     ]
    }
   ],
   "source": [
    "import re\n",
    "# Sample text\n",
    "sample_text = \"importanceOfRegularExpressioninPython\"\n",
    "\n",
    "# Use regular expression to split into uppercase letters\n",
    "uppercase_letters = re.findall(r'[A-Z]', sample_text)\n",
    "\n",
    "# Join the uppercase letters into a string\n",
    "result = ''.join(uppercase_letters)\n",
    "\n",
    "# Print the result\n",
    "print(result)"
   ]
  },
  {
   "cell_type": "code",
   "execution_count": 28,
   "id": "c09b3c0a",
   "metadata": {},
   "outputs": [],
   "source": [
    "#8"
   ]
  },
  {
   "cell_type": "code",
   "execution_count": 29,
   "id": "db90e5db",
   "metadata": {},
   "outputs": [
    {
     "name": "stdout",
     "output_type": "stream",
     "text": [
      "RegularExpression 1IsAn 2ImportantTopic 3InPython\n"
     ]
    }
   ],
   "source": [
    "import re\n",
    "def insert_spaces_before_numbers(text):\n",
    "    result = re.sub(r'(\\D)(\\d)', r'\\1 \\2', text)\n",
    "    return result\n",
    "sample_text = \"RegularExpression1IsAn2ImportantTopic3InPython\"\n",
    "output_text = insert_spaces_before_numbers(sample_text)\n",
    "print(output_text)"
   ]
  },
  {
   "cell_type": "code",
   "execution_count": 30,
   "id": "c6ba50c1",
   "metadata": {},
   "outputs": [],
   "source": [
    "#9"
   ]
  },
  {
   "cell_type": "code",
   "execution_count": 31,
   "id": "82ca79a0",
   "metadata": {},
   "outputs": [
    {
     "name": "stdout",
     "output_type": "stream",
     "text": [
      "RegularExpression1 IsAn2 ImportantTopic3 InPython\n"
     ]
    }
   ],
   "source": [
    "\n",
    "import re\n",
    "\n",
    "def insert_spaces_before_capitals_or_numbers(text):\n",
    "    # Use regular expression to find and insert spaces before words starting with capital letters or numbers\n",
    "    result = re.sub(r'([A-Z0-9])([A-Z])', r'\\1 \\2', text)\n",
    "    return result\n",
    "\n",
    "# Sample text\n",
    "sample_text = \"RegularExpression1IsAn2ImportantTopic3InPython\"\n",
    "\n",
    "# Call the function and print the result\n",
    "output_text = insert_spaces_before_capitals_or_numbers(sample_text)\n",
    "print(output_text)"
   ]
  },
  {
   "cell_type": "code",
   "execution_count": 32,
   "id": "fe77ad4c",
   "metadata": {},
   "outputs": [],
   "source": [
    "#10"
   ]
  },
  {
   "cell_type": "code",
   "execution_count": 33,
   "id": "848a9d58",
   "metadata": {},
   "outputs": [
    {
     "name": "stdout",
     "output_type": "stream",
     "text": [
      "         Country first_five_letters\n",
      "0    Switzerland             Switze\n",
      "1        Iceland             Icelan\n",
      "2        Denmark             Denmar\n",
      "3         Norway             Norway\n",
      "4         Canada             Canada\n",
      "..           ...                ...\n",
      "153       Rwanda             Rwanda\n",
      "154        Benin              Benin\n",
      "155        Syria              Syria\n",
      "156      Burundi             Burund\n",
      "157         Togo               Togo\n",
      "\n",
      "[158 rows x 2 columns]\n"
     ]
    }
   ],
   "source": [
    "import pandas as pd\n",
    "\n",
    "# GitHub link to the dataset\n",
    "url = \"https://raw.githubusercontent.com/dsrscientist/DSData/master/happiness_score_dataset.csv\"\n",
    "\n",
    "# Read the data into a DataFrame\n",
    "df = pd.read_csv(url)\n",
    "\n",
    "# Extract the first 6 letters of each country name and store in a new column\n",
    "df['first_five_letters'] = df['Country'].str[:6]\n",
    "\n",
    "# Display the DataFrame with the new column\n",
    "print(df[['Country', 'first_five_letters']])"
   ]
  },
  {
   "cell_type": "code",
   "execution_count": 34,
   "id": "222c3662",
   "metadata": {},
   "outputs": [],
   "source": [
    "#11"
   ]
  },
  {
   "cell_type": "code",
   "execution_count": 35,
   "id": "bc344726",
   "metadata": {},
   "outputs": [
    {
     "name": "stdout",
     "output_type": "stream",
     "text": [
      "\"deepika123\" is a valid string.\n",
      "\"Aarav_Rocks\" is a valid string.\n",
      "\"welcome!\" is not a valid string.\n",
      "\"Arohi3\" is a valid string.\n"
     ]
    }
   ],
   "source": [
    "import re\n",
    "\n",
    "def is_valid_string(s):\n",
    "    pattern = r'^[a-zA-Z0-9_]*$'\n",
    "    return bool(re.match(pattern, s))\n",
    "\n",
    "# Test the function with some sample strings\n",
    "sample_strings = [\"deepika123\", \"Aarav_Rocks\", \"welcome!\", \"Arohi3\"]\n",
    "\n",
    "for s in sample_strings:\n",
    "    if is_valid_string(s):\n",
    "        print(f'\"{s}\" is a valid string.')\n",
    "    else:\n",
    "        print(f'\"{s}\" is not a valid string.')"
   ]
  },
  {
   "cell_type": "code",
   "execution_count": 36,
   "id": "be978d0b",
   "metadata": {},
   "outputs": [],
   "source": [
    "#12"
   ]
  },
  {
   "cell_type": "code",
   "execution_count": 37,
   "id": "a1b269fe",
   "metadata": {},
   "outputs": [
    {
     "name": "stdout",
     "output_type": "stream",
     "text": [
      "\"123xyz\" starts with the number 123.\n",
      "\"456mnc\" does not start with the number 123.\n",
      "\"fgh123\" does not start with the number 123.\n",
      "\"103def\" does not start with the number 123.\n"
     ]
    }
   ],
   "source": [
    "def starts_with_number(string, number):\n",
    "    # Check if the string starts with the specified number as a string\n",
    "    return string.startswith(str(number))\n",
    "\n",
    "# Test the function with some sample strings and numbers\n",
    "sample_strings = [\"123xyz\", \"456mnc\", \"fgh123\", \"103def\"]\n",
    "specific_number = 123\n",
    "\n",
    "for s in sample_strings:\n",
    "    if starts_with_number(s, specific_number):\n",
    "        print(f'\"{s}\" starts with the number {specific_number}.')\n",
    "    else:\n",
    "        print(f'\"{s}\" does not start with the number {specific_number}.')\n"
   ]
  },
  {
   "cell_type": "code",
   "execution_count": 38,
   "id": "4d8b6d30",
   "metadata": {},
   "outputs": [],
   "source": [
    "#13"
   ]
  },
  {
   "cell_type": "code",
   "execution_count": 39,
   "id": "cf0794d5",
   "metadata": {},
   "outputs": [
    {
     "name": "stdout",
     "output_type": "stream",
     "text": [
      "Original IP address: 192.001.001.001\n",
      "Cleaned IP address: 192.1.1.1\n"
     ]
    }
   ],
   "source": [
    "import re\n",
    "\n",
    "def remove_leading_zeros(ip_address):\n",
    "    # Use regular expression to remove leading zeros from each segment\n",
    "    segments = ip_address.split('.')\n",
    "    cleaned_segments = []\n",
    "\n",
    "    for segment in segments:\n",
    "        cleaned_segment = re.sub(r'^0+', '', segment)\n",
    "        cleaned_segments.append(cleaned_segment)\n",
    "\n",
    "    cleaned_ip_address = '.'.join(cleaned_segments)\n",
    "    return cleaned_ip_address\n",
    "\n",
    "# Test the function with an IP address\n",
    "ip_address = \"192.001.001.001\"\n",
    "cleaned_ip = remove_leading_zeros(ip_address)\n",
    "print(\"Original IP address:\", ip_address)\n",
    "print(\"Cleaned IP address:\", cleaned_ip)\n"
   ]
  },
  {
   "cell_type": "code",
   "execution_count": 40,
   "id": "284754e4",
   "metadata": {},
   "outputs": [],
   "source": [
    "#14"
   ]
  },
  {
   "cell_type": "code",
   "execution_count": 42,
   "id": "4df9f7c6",
   "metadata": {},
   "outputs": [
    {
     "ename": "SyntaxError",
     "evalue": "'(' was never closed (894925199.py, line 8)",
     "output_type": "error",
     "traceback": [
      "\u001b[0;36m  Cell \u001b[0;32mIn[42], line 8\u001b[0;36m\u001b[0m\n\u001b[0;31m    pattern = (r'\\b(?:January|February|March|April|May|June|July|August|September|October|November|December)\\s+\\d{1,2}(?:st|nd|rd|th)?\\s+\\d{4}\\b)'\u001b[0m\n\u001b[0m              ^\u001b[0m\n\u001b[0;31mSyntaxError\u001b[0m\u001b[0;31m:\u001b[0m '(' was never closed\n"
     ]
    }
   ],
   "source": [
    "import re\n",
    "\n",
    "# Read the text from a text file\n",
    "with open('On August 15th 1947 that India was declared independent from British colonialism,and the reins of control were handed over to the leaders of the Country.txt', 'r') as file:\n",
    "    text = file.read()\n",
    "\n",
    "# Define a regular expression pattern to match the date string\n",
    "pattern = (r'\\b(?:January|February|March|April|May|June|July|August|September|October|November|December)\\s+\\d{1,2}(?:st|nd|rd|th)?\\s+\\d{4}\\b)'\n",
    "\n",
    "# Find the date string in the text\n",
    "match = re.search(pattern, text)\n",
    "\n",
    "# Extract the matched date string\n",
    "if match:\n",
    "    date_string = match.group(0)\n",
    "    print(\"Extracted Date String:\", date_string)\n",
    "else:\n",
    "    print(\"No date string found in the text.\")\n"
   ]
  },
  {
   "cell_type": "code",
   "execution_count": 34,
   "id": "e55b8783",
   "metadata": {},
   "outputs": [],
   "source": [
    "#15"
   ]
  },
  {
   "cell_type": "code",
   "execution_count": 46,
   "id": "5590afe3",
   "metadata": {},
   "outputs": [
    {
     "name": "stdout",
     "output_type": "stream",
     "text": [
      "'fox'\n",
      "'dog'\n",
      "'horse'\n"
     ]
    }
   ],
   "source": [
    "import re \n",
    "sample_text = 'The quick brown fox jumps over the lazy dog.'\n",
    "searched_words = ['fox', 'dog', 'horse']\n",
    "\n",
    "for word in searched_words:\n",
    "    if word in sample_text:\n",
    "        print(f\"'{word}'\")\n",
    "    else:\n",
    "        print(f\"'{word}'\")\n"
   ]
  },
  {
   "cell_type": "code",
   "execution_count": 47,
   "id": "e36a218e",
   "metadata": {},
   "outputs": [],
   "source": [
    "#16"
   ]
  },
  {
   "cell_type": "code",
   "execution_count": 51,
   "id": "2e1f2746",
   "metadata": {},
   "outputs": [
    {
     "name": "stdout",
     "output_type": "stream",
     "text": [
      "'fox'\n"
     ]
    }
   ],
   "source": [
    "sample_text = 'The quick brown fox jumps over the lazy dog.'\n",
    "searched_word = 'fox'\n",
    "\n",
    "location = sample_text.find(searched_word)\n",
    "print(f\"'{searched_word}'\")\n",
    "\n"
   ]
  },
  {
   "cell_type": "code",
   "execution_count": 52,
   "id": "299086a8",
   "metadata": {},
   "outputs": [],
   "source": [
    "#17"
   ]
  },
  {
   "cell_type": "code",
   "execution_count": 56,
   "id": "0d2fac16",
   "metadata": {},
   "outputs": [],
   "source": [
    "sample_text = 'Python exercises, PHP exercises, C# exercises'\n",
    "pattern = 'exercises'\n",
    "\n",
    "start = 0\n",
    "positions = []\n",
    "\n",
    "\n"
   ]
  },
  {
   "cell_type": "code",
   "execution_count": 1,
   "id": "97f708e0",
   "metadata": {},
   "outputs": [],
   "source": [
    "#18"
   ]
  },
  {
   "cell_type": "code",
   "execution_count": 2,
   "id": "3a45adbb",
   "metadata": {},
   "outputs": [
    {
     "name": "stdout",
     "output_type": "stream",
     "text": [
      "Enter the string: \"hi my name is deepika\n",
      "Enter the substring to search for: Rahul is my bestfriend\n",
      "'Rahul is my bestfriend' not found in the given string.\n"
     ]
    }
   ],
   "source": [
    "def find_occurrences(substring, string):\n",
    "    occurrences = []\n",
    "    start = 0\n",
    "\n",
    "    while start < len(string):\n",
    "        position = string.find(substring, start)\n",
    "\n",
    "        if position == -1:\n",
    "            break\n",
    "\n",
    "        occurrences.append(position)\n",
    "        start = position + 1\n",
    "\n",
    "    return occurrences\n",
    "\n",
    "if __name__ == \"__main__\":\n",
    "    input_string = input(\"Enter the string: \")\n",
    "    substring = input(\"Enter the substring to search for: \")\n",
    "\n",
    "    positions = find_occurrences(substring, input_string)\n",
    "\n",
    "    if positions:\n",
    "        print(f\"'{substring}' found at positions: {', '.join(map(str, positions))}\")\n",
    "    else:\n",
    "        print(f\"'{substring}' not found in the given string.\")\n"
   ]
  },
  {
   "cell_type": "code",
   "execution_count": 3,
   "id": "3100e53f",
   "metadata": {},
   "outputs": [],
   "source": [
    "#20"
   ]
  },
  {
   "cell_type": "code",
   "execution_count": 4,
   "id": "104e36f0",
   "metadata": {},
   "outputs": [
    {
     "name": "stdout",
     "output_type": "stream",
     "text": [
      "['01.12', '145.8', '3.01', '27.25', '0.25']\n"
     ]
    }
   ],
   "source": [
    "import re\n",
    "\n",
    "def find_decimal_numbers(text):\n",
    "    pattern = re.compile(r'\\b\\d+\\.\\d{1,2}\\b')\n",
    "    decimal_numbers = re.findall(pattern, text)\n",
    "    return decimal_numbers\n",
    "\n",
    "sample_text = \"01.12 0132.123 2.31875 145.8 3.01 27.25 0.25\"\n",
    "result = find_decimal_numbers(sample_text)\n",
    "print(result)\n"
   ]
  },
  {
   "cell_type": "code",
   "execution_count": 5,
   "id": "f07837d5",
   "metadata": {},
   "outputs": [],
   "source": [
    "#19"
   ]
  },
  {
   "cell_type": "code",
   "execution_count": 6,
   "id": "768f622a",
   "metadata": {},
   "outputs": [
    {
     "name": "stdout",
     "output_type": "stream",
     "text": [
      "Enter a date in yyyy-mm-dd format: 2023-04-23\n",
      "Converted date in dd-mm-yyyy format: 23-04-2023\n"
     ]
    }
   ],
   "source": [
    "from datetime import datetime\n",
    "\n",
    "def convert_date(input_date):\n",
    "    try:\n",
    "        date_object = datetime.strptime(input_date, '%Y-%m-%d')\n",
    "    except ValueError:\n",
    "        print(\"Invalid date format. Please use yyyy-mm-dd.\")\n",
    "        return\n",
    "\n",
    "    # Format the date as dd-mm-yyyy\n",
    "    formatted_date = date_object.strftime('%d-%m-%Y')\n",
    "    return formatted_date\n",
    "\n",
    "if __name__ == \"__main__\":\n",
    "    input_date = input(\"Enter a date in yyyy-mm-dd format: \")\n",
    "    converted_date = convert_date(input_date)\n",
    "\n",
    "    if converted_date:\n",
    "        print(\"Converted date in dd-mm-yyyy format:\", converted_date)\n"
   ]
  },
  {
   "cell_type": "code",
   "execution_count": 7,
   "id": "83bfd869",
   "metadata": {},
   "outputs": [],
   "source": [
    "#21"
   ]
  },
  {
   "cell_type": "code",
   "execution_count": 1,
   "id": "736e759d",
   "metadata": {},
   "outputs": [
    {
     "name": "stdout",
     "output_type": "stream",
     "text": [
      "Enter a string: my name is deepika\n"
     ]
    }
   ],
   "source": [
    "import re\n",
    "\n",
    "def find_numbers_and_positions(text):\n",
    "    # Create a regular expression pattern to find numbers\n",
    "    pattern = re.compile(r'\\d+')\n",
    "\n",
    "    # Use finditer to find all number matches and their positions\n",
    "    matches = list(pattern.finditer(text))\n",
    "\n",
    "    # Print the numbers and their positions\n",
    "    for match in matches:\n",
    "        number = match.group()  # Get the matched number\n",
    "        start_position = match.start()  # Get the start position of the match\n",
    "        end_position = match.end()  # Get the end position of the match\n",
    "\n",
    "        print(f\"Number: {number}, Position: {start_position}-{end_position}\")\n",
    "\n",
    "if __name__ == \"__main__\":\n",
    "    input_string = input(\"Enter a string: \")\n",
    "    find_numbers_and_positions(input_string)\n"
   ]
  },
  {
   "cell_type": "code",
   "execution_count": 2,
   "id": "96c53355",
   "metadata": {},
   "outputs": [],
   "source": [
    "#22"
   ]
  },
  {
   "cell_type": "code",
   "execution_count": 3,
   "id": "9a479fda",
   "metadata": {},
   "outputs": [
    {
     "name": "stdout",
     "output_type": "stream",
     "text": [
      "The maximum numeric value in the text is: 950\n"
     ]
    }
   ],
   "source": [
    "import re\n",
    "\n",
    "def extract_max_number(text):\n",
    "    # Define a regular expression pattern to match numbers\n",
    "    pattern = r'\\d+'\n",
    "\n",
    "    # Find all matches of the pattern in the text\n",
    "    numbers = re.findall(pattern, text)\n",
    "\n",
    "    if numbers:\n",
    "        # Convert the matched numbers to integers and find the maximum\n",
    "        max_number = max(map(int, numbers))\n",
    "        return max_number\n",
    "    else:\n",
    "        return None\n",
    "\n",
    "sample_text = 'My marks in each semester are: 947, 896, 926, 524, 734, 950, 642'\n",
    "max_number = extract_max_number(sample_text)\n",
    "\n",
    "if max_number is not None:\n",
    "    print(f\"The maximum numeric value in the text is: {max_number}\")\n",
    "else:\n",
    "    print(\"No numeric values found in the text.\")\n"
   ]
  },
  {
   "cell_type": "code",
   "execution_count": 4,
   "id": "d907a2b6",
   "metadata": {},
   "outputs": [],
   "source": [
    "#23"
   ]
  },
  {
   "cell_type": "code",
   "execution_count": 5,
   "id": "e9889047",
   "metadata": {},
   "outputs": [
    {
     "name": "stdout",
     "output_type": "stream",
     "text": [
      "Regular Expression Is An Important Topic In Python\n"
     ]
    }
   ],
   "source": [
    "def insert_spaces(text):\n",
    "    new_text = []\n",
    "    for i, char in enumerate(text):\n",
    "        if i > 0 and char.isupper() and text[i - 1].islower():\n",
    "            new_text.append(' ')\n",
    "        new_text.append(char)\n",
    "    return ''.join(new_text)\n",
    "\n",
    "sample_text = \"RegularExpressionIsAnImportantTopicInPython\"\n",
    "result = insert_spaces(sample_text)\n",
    "print(result)\n"
   ]
  },
  {
   "cell_type": "code",
   "execution_count": 6,
   "id": "745ba7d4",
   "metadata": {},
   "outputs": [],
   "source": [
    "#24"
   ]
  },
  {
   "cell_type": "code",
   "execution_count": 16,
   "id": "ffb1ef2f",
   "metadata": {},
   "outputs": [
    {
     "name": "stdout",
     "output_type": "stream",
     "text": [
      "This\n",
      "Sample\n",
      "Text\n",
      "Multiple\n",
      "Sequences\n",
      "Like\n",
      "This\n",
      "One\n",
      "['This', 'Sample', 'Text', 'Multiple', 'Sequences', 'Like', 'This', 'One']\n"
     ]
    }
   ],
   "source": [
    "import re\n",
    "\n",
    "text = \"This is a Sample Text with Multiple Sequences Like This One.\"\n",
    "\n",
    "pattern = r'[A-Z][a-z]+'\n",
    "\n",
    "matches = re.findall(pattern, text)\n",
    "\n",
    "for match in matches:\n",
    "    print(match)\n",
    "print(matches)"
   ]
  },
  {
   "cell_type": "code",
   "execution_count": 8,
   "id": "5bc31846",
   "metadata": {},
   "outputs": [],
   "source": [
    "#26"
   ]
  },
  {
   "cell_type": "code",
   "execution_count": 1,
   "id": "2a124329",
   "metadata": {},
   "outputs": [
    {
     "name": "stdout",
     "output_type": "stream",
     "text": [
      "Enter a string: uhiuuh *\n",
      "The input string does not end with an alphanumeric character.\n"
     ]
    }
   ],
   "source": [
    "import re\n",
    "\n",
    "def is_string_ending_with_alphanumeric(input_string):\n",
    "    pattern = r'^.*[a-zA-Z0-9]$'  # This pattern matches a string ending with an alphanumeric character\n",
    "    return bool(re.match(pattern, input_string))\n",
    "\n",
    "input_string = input(\"Enter a string: \")\n",
    "if is_string_ending_with_alphanumeric(input_string):\n",
    "    print(\"The input string ends with an alphanumeric character.\")\n",
    "else:\n",
    "    print(\"The input string does not end with an alphanumeric character.\")\n"
   ]
  },
  {
   "cell_type": "code",
   "execution_count": 10,
   "id": "ec1ad3a9",
   "metadata": {},
   "outputs": [],
   "source": [
    "#25"
   ]
  },
  {
   "cell_type": "code",
   "execution_count": 47,
   "id": "6825c5aa",
   "metadata": {},
   "outputs": [
    {
     "name": "stdout",
     "output_type": "stream",
     "text": [
      "Hello world\n"
     ]
    }
   ],
   "source": [
    "import re\n",
    "\n",
    "def remove_continuous_duplicates(sentence):\n",
    "    pattern = r'\\b(\\w+)\\b\\s+\\1\\b'\n",
    "    replaced_sentence = re.sub(pattern, r'\\1', sentence, flags=re.IGNORECASE)\n",
    "    return replaced_sentence\n",
    "\n",
    "sample_text = \"Hello hello world world\"\n",
    "result = remove_continuous_duplicates(sample_text)\n",
    "print(result)\n"
   ]
  },
  {
   "cell_type": "code",
   "execution_count": null,
   "id": "3668d0ed",
   "metadata": {},
   "outputs": [],
   "source": [
    "#27"
   ]
  },
  {
   "cell_type": "code",
   "execution_count": 46,
   "id": "b69f2c62",
   "metadata": {},
   "outputs": [
    {
     "name": "stdout",
     "output_type": "stream",
     "text": [
      "['#Doltiwal', '#xyzabc', '#Demonetization']\n",
      "@Jags123456 Bharat band on 28??<ed><ed>Those who are protesting #demonetization are all different party leaders\n"
     ]
    }
   ],
   "source": [
    "import re\n",
    "\n",
    "def extract_hashtags(text):\n",
    "    pattern = re.compile(r'#\\w+')\n",
    "    hashtags = pattern.findall(text)\n",
    "    return hashtags\n",
    "\n",
    "sample_text = \"\"\"RT @kapil_kausik: #Doltiwal I mean #xyzabc is \"hurt\" by #Demonetization as the same\n",
    "has rendered USELESS <ed><U+00A0><U+00BD><ed><U+00B1><U+0089> \"acquired funds\" No wo\"\"\"\n",
    "result = extract_hashtags(sample_text)\n",
    "print(result)\n",
    "\n",
    "import re\n",
    "\n",
    "def remove_symbols(text):\n",
    "    pattern = re.compile(r'<U\\+\\w+>')\n",
    "    modified_text = pattern.sub('', text)\n",
    "    return modified_text\n",
    "\n",
    "sample_text = \"@Jags123456 Bharat band on 28??<ed><U+00A0><U+00BD><ed><U+00B8><U+0082>Those who are protesting #demonetization are all different party leaders\"\n",
    "result = remove_symbols(sample_text)\n",
    "print(result)"
   ]
  },
  {
   "cell_type": "code",
   "execution_count": null,
   "id": "aed26231",
   "metadata": {},
   "outputs": [],
   "source": [
    "#28"
   ]
  },
  {
   "cell_type": "code",
   "execution_count": 45,
   "id": "f838f68b",
   "metadata": {},
   "outputs": [
    {
     "name": "stdout",
     "output_type": "stream",
     "text": [
      "@Jags123456 Bharat band on 28??<ed><ed>Those who are protesting #demonetization are all different party leaders\n"
     ]
    }
   ],
   "source": [
    "\n",
    "import re\n",
    "\n",
    "def remove_symbols(text):\n",
    "    pattern = re.compile(r'<U\\+\\w+>')\n",
    "    modified_text = pattern.sub('', text)\n",
    "    return modified_text\n",
    "\n",
    "sample_text = \"@Jags123456 Bharat band on 28??<ed><U+00A0><U+00BD><ed><U+00B8><U+0082>Those who are protesting #demonetization are all different party leaders\"\n",
    "result = remove_symbols(sample_text)\n",
    "print(result)\n",
    "\n",
    "\n",
    "\n"
   ]
  },
  {
   "cell_type": "code",
   "execution_count": null,
   "id": "dfde2068",
   "metadata": {},
   "outputs": [],
   "source": [
    "#30"
   ]
  },
  {
   "cell_type": "code",
   "execution_count": 44,
   "id": "d61b758d",
   "metadata": {},
   "outputs": [
    {
     "name": "stdout",
     "output_type": "stream",
     "text": [
      " following example creates  ArrayList  a capacity   elements. 4 elements   added   ArrayList   ArrayList  trimmed accordingly.\n"
     ]
    }
   ],
   "source": [
    "import re\n",
    "\n",
    "def remove_words_of_length(text):\n",
    "    pattern = re.compile(r'\\b\\w{2,4}\\b')\n",
    "    modified_text = pattern.sub('', text)\n",
    "    return modified_text\n",
    "\n",
    "sample_text = \"The following example creates an ArrayList with a capacity of 50 elements. 4 elements are then added to the ArrayList and the ArrayList is trimmed accordingly.\"\n",
    "result = remove_words_of_length(sample_text)\n",
    "print(result)"
   ]
  },
  {
   "cell_type": "code",
   "execution_count": null,
   "id": "ff723f0a",
   "metadata": {},
   "outputs": [],
   "source": []
  },
  {
   "cell_type": "code",
   "execution_count": null,
   "id": "d73f05df",
   "metadata": {},
   "outputs": [],
   "source": []
  },
  {
   "cell_type": "code",
   "execution_count": 12,
   "id": "0de96f32",
   "metadata": {},
   "outputs": [],
   "source": [
    "#29"
   ]
  },
  {
   "cell_type": "code",
   "execution_count": 50,
   "id": "fbee7112",
   "metadata": {},
   "outputs": [
    {
     "name": "stdout",
     "output_type": "stream",
     "text": [
      "15-12-1999\n"
     ]
    }
   ],
   "source": [
    "import re\n",
    "\n",
    "# Define a regular expression pattern to match dates in the format dd-mm-yyyy\n",
    "date_pattern = r'\\d{2}-\\d{2}-\\d{4}'\n",
    "\n",
    "# Open and read the text file\n",
    "with open('sample.txt', 'r') as file:\n",
    "    text = file.read()\n",
    "\n",
    "# Use re.findall to extract dates from the text\n",
    "dates = re.findall(date_pattern, text)\n",
    "\n",
    "# Print the extracted dates\n",
    "for date in dates:\n",
    "    print(date)\n"
   ]
  },
  {
   "cell_type": "code",
   "execution_count": null,
   "id": "1e4c2b8a",
   "metadata": {},
   "outputs": [],
   "source": []
  }
 ],
 "metadata": {
  "kernelspec": {
   "display_name": "Python 3 (ipykernel)",
   "language": "python",
   "name": "python3"
  },
  "language_info": {
   "codemirror_mode": {
    "name": "ipython",
    "version": 3
   },
   "file_extension": ".py",
   "mimetype": "text/x-python",
   "name": "python",
   "nbconvert_exporter": "python",
   "pygments_lexer": "ipython3",
   "version": "3.11.3"
  }
 },
 "nbformat": 4,
 "nbformat_minor": 5
}
